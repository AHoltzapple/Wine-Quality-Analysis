{
 "cells": [
  {
   "cell_type": "markdown",
   "id": "medium-adult",
   "metadata": {},
   "source": [
    "# Wine Quality Analysis\n",
    "\n",
    "This analysis examines a model to predict wine quality rating using chemical measurement inputs and uses the results to answer the following business questions:\n",
    "\n",
    "1. Which chemical feature has the most negative effect on a wine's quality?\n",
    "2. Which chemical feature has the most positive effect on a wine's quality?\n",
    "3. What other information could be used or is important to consider when attempting to predict wine quality?\n",
    "4. How can those in the wine industry use this information to their benefit?\n",
    "\n",
    "## Business Understanding\n",
    "\n",
    "There's many aspects to consider when making wine in order to produce a great quality product. A lot of those considerations are of the chemical composition as it most directly affects a wine's taste, color, and other aspects. Typical consumers don't pick wine by examining the chemical properties however, and instead rely on their subjective judgement using their senses, or on external influences such as recommendations from friends or reviews by wine experts.\n",
    "\n",
    "Businesses involved in wine have a vested interest in understanding how the chemical properties translate into perceived quality. Knowing this relationship will give them a powerful advantage to making profitable recommendations to customers and an effective pricing model. Going further up the pipeline, wineries and winemakers themselves can benefit from this knowledge by knowing what aspects are most important to control in the winemaking process. This can prevent time, money, and resources from being wasted on low qualitty wines.\n",
    "\n",
    "## Data Understanding and Preparation\n",
    "\n",
    "The first step in the analysis is to understand the data being used and what information is available for analysis. Referring to the original data source on the UCI Machine Learning Repository website, the dataset was created from measurements of red variants of Vinho Verde wine from Portugal.\n",
    "\n",
    "Chemical measurements of the wines were taken, measuring features such as pH, density, sugar content, and of course alcohol. Along with the chemical measurements is a subjective quality rating from 0 to 10, obtained from wine experts.\n",
    "\n",
    "Let's import the dataset to get a better understanding of its structure:"
   ]
  },
  {
   "cell_type": "code",
   "execution_count": 1,
   "id": "convertible-interest",
   "metadata": {},
   "outputs": [],
   "source": [
    "import pandas as pd\n",
    "import seaborn as sns\n",
    "import numpy as np\n",
    "import matplotlib.pyplot as plt\n",
    "import mord\n",
    "from mord import LogisticAT\n",
    "import sklearn\n",
    "from sklearn.model_selection import train_test_split\n",
    "from sklearn import metrics\n",
    "\n",
    "%matplotlib inline"
   ]
  },
  {
   "cell_type": "markdown",
   "id": "funky-friday",
   "metadata": {},
   "source": [
    "#### <b>Gather</b>:"
   ]
  },
  {
   "cell_type": "code",
   "execution_count": 2,
   "id": "adjustable-million",
   "metadata": {},
   "outputs": [],
   "source": [
    "dfred = pd.read_csv('winequality-red.csv', delimiter=';') # Import CSV data"
   ]
  },
  {
   "cell_type": "markdown",
   "id": "weekly-marshall",
   "metadata": {},
   "source": [
    "#### <b>Assess</b>:"
   ]
  },
  {
   "cell_type": "code",
   "execution_count": 3,
   "id": "musical-bernard",
   "metadata": {},
   "outputs": [
    {
     "name": "stdout",
     "output_type": "stream",
     "text": [
      "<class 'pandas.core.frame.DataFrame'>\n",
      "RangeIndex: 1599 entries, 0 to 1598\n",
      "Data columns (total 12 columns):\n",
      " #   Column                Non-Null Count  Dtype  \n",
      "---  ------                --------------  -----  \n",
      " 0   fixed acidity         1599 non-null   float64\n",
      " 1   volatile acidity      1599 non-null   float64\n",
      " 2   citric acid           1599 non-null   float64\n",
      " 3   residual sugar        1599 non-null   float64\n",
      " 4   chlorides             1599 non-null   float64\n",
      " 5   free sulfur dioxide   1599 non-null   float64\n",
      " 6   total sulfur dioxide  1599 non-null   float64\n",
      " 7   density               1599 non-null   float64\n",
      " 8   pH                    1599 non-null   float64\n",
      " 9   sulphates             1599 non-null   float64\n",
      " 10  alcohol               1599 non-null   float64\n",
      " 11  quality               1599 non-null   int64  \n",
      "dtypes: float64(11), int64(1)\n",
      "memory usage: 150.0 KB\n",
      "None \n",
      "\n",
      "       fixed acidity  volatile acidity  citric acid  residual sugar  \\\n",
      "count    1599.000000       1599.000000  1599.000000     1599.000000   \n",
      "mean        8.319637          0.527821     0.270976        2.538806   \n",
      "std         1.741096          0.179060     0.194801        1.409928   \n",
      "min         4.600000          0.120000     0.000000        0.900000   \n",
      "25%         7.100000          0.390000     0.090000        1.900000   \n",
      "50%         7.900000          0.520000     0.260000        2.200000   \n",
      "75%         9.200000          0.640000     0.420000        2.600000   \n",
      "max        15.900000          1.580000     1.000000       15.500000   \n",
      "\n",
      "         chlorides  free sulfur dioxide  total sulfur dioxide      density  \\\n",
      "count  1599.000000          1599.000000           1599.000000  1599.000000   \n",
      "mean      0.087467            15.874922             46.467792     0.996747   \n",
      "std       0.047065            10.460157             32.895324     0.001887   \n",
      "min       0.012000             1.000000              6.000000     0.990070   \n",
      "25%       0.070000             7.000000             22.000000     0.995600   \n",
      "50%       0.079000            14.000000             38.000000     0.996750   \n",
      "75%       0.090000            21.000000             62.000000     0.997835   \n",
      "max       0.611000            72.000000            289.000000     1.003690   \n",
      "\n",
      "                pH    sulphates      alcohol      quality  \n",
      "count  1599.000000  1599.000000  1599.000000  1599.000000  \n",
      "mean      3.311113     0.658149    10.422983     5.636023  \n",
      "std       0.154386     0.169507     1.065668     0.807569  \n",
      "min       2.740000     0.330000     8.400000     3.000000  \n",
      "25%       3.210000     0.550000     9.500000     5.000000  \n",
      "50%       3.310000     0.620000    10.200000     6.000000  \n",
      "75%       3.400000     0.730000    11.100000     6.000000  \n",
      "max       4.010000     2.000000    14.900000     8.000000  \n"
     ]
    }
   ],
   "source": [
    "print(dfred.info(),'\\n')  # Check structure and missing values\n",
    "print(dfred.describe())"
   ]
  },
  {
   "cell_type": "markdown",
   "id": "hazardous-charm",
   "metadata": {},
   "source": [
    "Examining the structure of the dataframe reveals it is made up of 1599 data points and 12 features. Luckily, the original data collection appears to have been completed very well as there are no missing values in any of the features. The chemical features are all measured in float type values while the quality rating is an integer. This matches our expectations based on the description of the original data.\n",
    "\n",
    "Taking a look at the statistics does reveal something of interest. The chemical features appear to vary significantly in their scaling. For example, alcohol spans from 8.4 to 14.9 while volatile acidity's maximum is only 1.58. It isn't clear just from the dataset what the expected range for these values are. For most lay-people, pH and alcohol are understandable. Both fall within the expected range (normal pH scale is 0 to 7; alcohol content of 8.4% to 14.9% is normal for wine).\n",
    "\n",
    "Let's take a look at the distribution of the quality ratings specifically.\n",
    "\n",
    "#### <b>Visualize</b>:"
   ]
  },
  {
   "cell_type": "code",
   "execution_count": 4,
   "id": "adequate-hydrogen",
   "metadata": {},
   "outputs": [
    {
     "data": {
      "text/plain": [
       "Text(0.5, 0, 'Quality')"
      ]
     },
     "execution_count": 4,
     "metadata": {},
     "output_type": "execute_result"
    },
    {
     "data": {
      "image/png": "[encoded data removed]",
      "text/plain": [
       "<Figure size 432x288 with 1 Axes>"
      ]
     },
     "metadata": {
      "needs_background": "light"
     },
     "output_type": "display_data"
    }
   ],
   "source": [
    "dfred['quality'].hist()  # Distribution of quality ratings\n",
    "plt.title('Distribution of Quality Ratings')\n",
    "plt.xlabel('Quality')"
   ]
  },
  {
   "cell_type": "markdown",
   "id": "medieval-malaysia",
   "metadata": {},
   "source": [
    "The quality ratings range from 3 to 8, with most being in the 5 or 6 category. Very high quality and very low quality wines appear to be under-represented in these ratings and may be something to consider for further studies. Modeling based off this dataset may provide higher accuracy for predicting mid-quality wines, but less so for very high or very low quality wines.\n",
    "\n",
    "## Modeling\n",
    "\n",
    "The output of this data is a categorical quality rating. Therefore some regression or classification techniques could be used to model the relationship between the chemical components and quality. One such method is a logistic regression, which seeks to predict a binary outcome. This could be used, for example, to specifically target a single rating or category such as if a wine will be high or low quality.\n",
    "\n",
    "However this would be tedious to accomplish as there are multiple categories of quality. Additionally, the quality rating is ordinal, a rating of 8 is higher than a rating of 4 and that difference has meaning. Using a logistic regression, the categories would have to be combined further or only certain ones targeted. There's a modification of the logistic regression that accounts for ordinal data simply referred to as an ordinal regression. An ordinal regression is similar to a logistic regression, but instead models the output as multiple ordered categories rather than a binary. More information on ordinal regression can be found on [Statistics Solutions](https://www.statisticssolutions.com/regression-analysis-ordinal-regression/) website.\n",
    "\n",
    "For this ordinal regression model, we'll make use of the sklearn library along with the mord library. Following sklearn format, the data will be split into a training and test set to train and then evaluate the model. The training set used to create the model, then the test set used to predict outcomes and evaluate those against the known quality ratings.\n",
    "\n",
    "#### <b>Model:</b>"
   ]
  },
  {
   "cell_type": "code",
   "execution_count": 5,
   "id": "focused-sewing",
   "metadata": {},
   "outputs": [],
   "source": [
    "# Create training and test sets:\n",
    "X_train, X_test, y_train, y_test = train_test_split(\n",
    "                                   dfred.drop(['quality'],axis=1),\n",
    "                                   dfred['quality'],\n",
    "                                   random_state = 42)\n",
    "\n",
    "ordinal_model = LogisticAT()\n",
    "fit = ordinal_model.fit(X_train, y_train)  # Fit training data to model\n",
    "pred = fit.predict(X_test)  # Predict outcomes for test data"
   ]
  },
  {
   "cell_type": "markdown",
   "id": "circular-offering",
   "metadata": {},
   "source": [
    "## Evaluation\n",
    "\n",
    "The next step for this model is to evaluate it's effectiveness by examining various metrics about the predictions it makes and the model itself. A common piece of information used to evaluate a model is a classification report. The classification report shows metrics such as precision, recall, and an overall accuracy.\n",
    "\n",
    "A classification report is useful for evaluating the accuracy of a model, but it doesn't describe the relationship between the features and the output variable. To find this information we can look at the coefficients of the input features. The coefficients describe the change in the output variable as that feature changes, holding all other equal.\n",
    "\n",
    "#### <b>Analyze:</b>"
   ]
  },
  {
   "cell_type": "code",
   "execution_count": 6,
   "id": "swedish-genre",
   "metadata": {},
   "outputs": [
    {
     "name": "stdout",
     "output_type": "stream",
     "text": [
      "Classification Report:\n",
      "\n",
      "              precision    recall  f1-score   support\n",
      "\n",
      "           3       0.00      0.00      0.00         1\n",
      "           4       0.00      0.00      0.00        13\n",
      "           5       0.64      0.74      0.68       164\n",
      "           6       0.55      0.62      0.58       169\n",
      "           7       0.40      0.17      0.24        48\n",
      "           8       0.00      0.00      0.00         5\n",
      "\n",
      "    accuracy                           0.58       400\n",
      "   macro avg       0.26      0.25      0.25       400\n",
      "weighted avg       0.54      0.58      0.55       400\n",
      "\n",
      "\n",
      "Feature Coefficients:\n",
      "\n",
      "fixed acidity 0.05\n",
      "volatile acidity -3.083\n",
      "citric acid -0.463\n",
      "residual sugar -0.001\n",
      "chlorides -2.119\n",
      "free sulfur dioxide 0.017\n",
      "total sulfur dioxide -0.011\n",
      "density -0.024\n",
      "pH -0.864\n",
      "sulphates 1.947\n",
      "alcohol 0.921\n"
     ]
    }
   ],
   "source": [
    "print('Classification Report:\\n')\n",
    "print(metrics.classification_report(y_test, pred, zero_division=0))\n",
    "\n",
    "print('\\nFeature Coefficients:\\n')\n",
    "for i,c in enumerate(X_train.columns):\n",
    "    print(c, round(fit.coef_[i], 3))"
   ]
  },
  {
   "cell_type": "markdown",
   "id": "amended-receiver",
   "metadata": {},
   "source": [
    "### Classification Report\n",
    "\n",
    "The classification report provides some important information about the model's effectiveness. Namely the overall accuracy metric. In this simple exercise, the model achieved an accuracy of 58%. For 58% of the time the model will correctly predict the quality rating for a wine given it's chemical measurements. One important outcome to note is the scores specifically for the 3, 4, and 8 quality ratings. These ratings have very little sample data available, therefore the model was unable to provide scoring for these categories.\n",
    "\n",
    "Although 58% does not sound very high, it does provide a good baseline with which to implement further optimizations. Additionally there's information that likely influences rating that is not available in this data. This is discussed further in another section below.\n",
    "\n",
    "### Feature Coefficients:\n",
    "\n",
    "<i>1. Which chemical feature has the most negative effect on a wine's quality?</i>\n",
    "\n",
    "#### Volatile Acidity\n",
    "\n",
    "Despite any concerns regarding the model's accuracy, we can still examine the feature coefficients to understand the relationship between the features and quality rating. The coefficients span a range from -3.083 to +1.947 indicating that some chemical features are desireable while others should be minimized.\n",
    "\n",
    "Volatile acidity achieved the lowest coefficient at -3.083. Volatile acidity refers to the gaseous acidic fumes that are present in wine. It is typically described as a smell of nail polish or paint thinner and is indicative of an un-sterile environment in which the wine was made. This description matches the model's results; as volatile acidity increases, we can expect the quality rating of a wine to decrease.\n",
    "\n",
    "A good way to examine this relationship is to plot volatile acidity levels against quality, quickly showing how the two move together. We may want to plot multiple features against quality later on, therefore a function to create the plot would be useful. The below code is a function that creates box plots to show the distribution of an input feature across the quality ratings, it also handles the axis labels and chart title automatically."
   ]
  },
  {
   "cell_type": "code",
   "execution_count": 7,
   "id": "unauthorized-column",
   "metadata": {},
   "outputs": [],
   "source": [
    "def quality_plot(data, feature):\n",
    "    '''\n",
    "    INPUT:\n",
    "    data - pandas dataframe to construct the plot from\n",
    "    feature - the desired feature to plot against quality rating\n",
    "    \n",
    "    OUTPUT:\n",
    "    Chart of box plots of selected feature over quality ratings\n",
    "    Creates axis labels and title from 'feature' input\n",
    "    '''\n",
    "    \n",
    "    feature_label = feature.title()\n",
    "    sns.catplot(x = 'quality', y = feature, kind = 'box', data = data)\n",
    "    plt.title(str(feature_label + ' ' + 'by Wine Quality'))\n",
    "    plt.xlabel('Quality')\n",
    "    plt.ylabel(feature_label)\n",
    "    return plt.show()"
   ]
  },
  {
   "cell_type": "markdown",
   "id": "compliant-browse",
   "metadata": {},
   "source": [
    "#### <b>Visualize:</b>"
   ]
  },
  {
   "cell_type": "code",
   "execution_count": 8,
   "id": "wired-mapping",
   "metadata": {},
   "outputs": [
    {
     "data": {
      "image/png": "[encoded data removed]",
      "text/plain": [
       "<Figure size 360x360 with 1 Axes>"
      ]
     },
     "metadata": {
      "needs_background": "light"
     },
     "output_type": "display_data"
    }
   ],
   "source": [
    "quality_plot(dfred, 'volatile acidity')"
   ]
  },
  {
   "cell_type": "markdown",
   "id": "civic-operation",
   "metadata": {},
   "source": [
    "Looking at the distributions, it's clear that the higher quality rating wines have lower levels of volatile acidity. The average acidity across ratings decreases from about 0.85 to just under 0.4. There is still variability though with some outliers. For example there's one wine with a quality rating of 8, but a volatile acidity level just higher than the average of the 3 rating group. Of course, we know volatile acidity is not the only factor affecting quality.\n",
    "\n",
    "More information on volatile acidity in wine can be found on [Decanter.com](https://www.decanter.com/learn/volatile-acidity-va-45532/)."
   ]
  },
  {
   "cell_type": "markdown",
   "id": "cardiovascular-interaction",
   "metadata": {},
   "source": [
    "<i>2. Which chemical feature has the most positive effect on a wine's quality?</i>\n",
    "\n",
    "#### Sulphate Content\n",
    "\n",
    "On the other end of the coefficient range is sulphate content with a coefficient of 1.947. sulphate are chemical compounds derived from sulfur dioxide and are typically used a preservatives in food. Specifically in wine, they are used to prevent bacterial growth that contributes to discoloration and oxidation. This helps to preserve flavor and increase a wine's shelf life. This usage of sulphate also matches our model's results which show that quality is predicted to increase as sulphate content increases.\n",
    "\n",
    "Just as with the volatile acidity, a plot of sulphate content across the quality ratings can visualize this relationship.\n",
    "\n",
    "#### <b>Visualize:</b>"
   ]
  },
  {
   "cell_type": "code",
   "execution_count": 9,
   "id": "finished-formula",
   "metadata": {},
   "outputs": [
    {
     "data": {
      "image/png": "[encoded data removed]",
      "text/plain": [
       "<Figure size 360x360 with 1 Axes>"
      ]
     },
     "metadata": {
      "needs_background": "light"
     },
     "output_type": "display_data"
    }
   ],
   "source": [
    "quality_plot(dfred, 'sulphates')"
   ]
  },
  {
   "cell_type": "markdown",
   "id": "earlier-irish",
   "metadata": {},
   "source": [
    "As expected based on the coefficient, the higher quality ratings have a higher sulphate content. The variability between the ratings is not as pronounced however, with the average content increasing only from about 0.50 to 0.75. This falls in line with a lower absolute value of the coefficient as well.\n",
    "\n",
    "More information on sulphates in wine can be found on [Healthline.com](https://www.healthline.com/nutrition/sulfites-in-wine#sulfites).\n",
    "\n",
    "### Other Considerations\n",
    "\n",
    "<i>3. What other information could be used or is important to consider when attempting to predict wine quality?</i>\n",
    "\n",
    "This relatively simple model provides an adequate baseline for predicting quality ratings based on chemical measurements. There are other factors to be accounted for that may improve the model further.\n",
    "\n",
    "#### Data Optimization\n",
    "\n",
    "Another aspect of the model that can be improved upon in future iterations is the handling of the data. Most importantly, the quality ratings can range from 0 to 10, and not all ratings are represented. Even in the data that's present, the very high and very low quality wines are under-represented. To create a better model this imbalance should be accounted for by upsampling the extreme ratings or through other techniques.\n",
    "\n",
    "#### Missing Information\n",
    "\n",
    "The original dataset was stripped of other information such as grape type, brand, and pricing dur to privacy reasons. It's not clear whether this information was availabe to the experts assigning the quality ratings. If it was, then this information should be accounted for within any models. Despite being well versed in wine, the experts could still have been influenced by this information.\n",
    "\n",
    "There's also a lack of information about how the chemical inputs were obtained. Were they taken during the winemaking process or afterwards? Is there any variability in the type of tools used to measure that may affect the result? Although not directly related to the data, having a better understanding of the chemical measurement and rating process may prove useful in developing better models.\n",
    "\n",
    "## Deployment\n",
    "\n",
    "<i>4. How can those in the wine industry use this information to their benefit?</i>\n",
    "\n",
    "The ultimate goal of this type of analysis is to provide stakeholders with a competitive advantage when making business decisions. Knowing the resulting quality of a wine before it's released can be very valuable. For restaurants, it can help determine their pricing for that wine as they would not want to over-price wines with a low predicted quality, but also not under-price wines that are predicted to be well liked.\n",
    "\n",
    "Wineries can use this information to help identify problems in the winemaking process and prevent bad batches from being released. By sampling the chemical composition early on, they can see how variations in the measurements could affect the final quality instead of relying only on changes within the measurements. For example, if a certain batch is measured to have slightly less sulfates than normal, the measurement variation itself may not appear significant. Using this model though, the winery could examine exactly the effect the change has on the quality rather than trying to examine the sulfate measurement in isolation.\n",
    "\n",
    "For wine enthusiasts this information is very interesting as they could use it to examine their own tastes compared to those of experts. They could conduct their own ratings, then work backwards to examine how it relates to the chemical composition. Then pick out wines with other compositions and predict what their own quality rating may be."
   ]
  }
 ],
 "metadata": {
  "kernelspec": {
   "display_name": "Python 3",
   "language": "python",
   "name": "python3"
  },
  "language_info": {
   "codemirror_mode": {
    "name": "ipython",
    "version": 3
   },
   "file_extension": ".py",
   "mimetype": "text/x-python",
   "name": "python",
   "nbconvert_exporter": "python",
   "pygments_lexer": "ipython3",
   "version": "3.8.5"
  }
 },
 "nbformat": 4,
 "nbformat_minor": 5
}
